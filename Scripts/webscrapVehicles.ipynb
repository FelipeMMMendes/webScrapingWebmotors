{
 "cells": [
  {
   "cell_type": "code",
   "execution_count": 363,
   "metadata": {},
   "outputs": [],
   "source": [
    "#fazendo os imports necessarios\n",
    "\n",
    "#precisamos do webdriver pois a pagina que coletamos eh dinamica, o HTML nao eh tao simples\n",
    "from selenium import webdriver\n",
    "\n",
    "#O By usamos para auxiliar na hora de localizar os elementos\n",
    "from selenium.webdriver.common.by import By\n",
    "\n",
    "#pandas eh para manipulacao de dados\n",
    "import pandas as pd"
   ]
  },
  {
   "cell_type": "code",
   "execution_count": 364,
   "metadata": {},
   "outputs": [],
   "source": [
    "#URL do website que vamos usar, eh de um varejo de carros dos EUA\n",
    "website = 'https://www.truecar.com/used-cars-for-sale/listings/location-fenton-la/'"
   ]
  },
  {
   "cell_type": "code",
   "execution_count": 365,
   "metadata": {},
   "outputs": [],
   "source": [
    "#instanciamos um objeto do tipo driver, no caso Chrome e mandamos ele acessar a URL do site\n",
    "driver = webdriver.Chrome()\n",
    "driver.get(website)"
   ]
  },
  {
   "cell_type": "code",
   "execution_count": 366,
   "metadata": {},
   "outputs": [],
   "source": [
    "#apontamos no site onde estao os elementos que queremos e pedimos para o driver localizar e resgatar\n",
    "precosCarros = driver.find_elements(By.CLASS_NAME,\"vehicle-card-bottom-pricing-secondary\")\n",
    "\n",
    "#agora vamos buscar os nomes dos carros, apontando para o nosso driver onde eles estao na pagina e pedindo que eles busque e nos traga essas infos\n",
    "NomesCarros = driver.find_elements(By.CLASS_NAME,\"vehicle-card-header\")\n",
    "\n",
    "#agora vamos coletar as infos de quantas milhas o carro percorreu, fazendo no mesmo esquema de indicar pro drive onde a informacao esta\n",
    "MilesCar = driver.find_elements(By.CSS_SELECTOR,\".truncate.text-xs[data-test=\"\"vehicleMileage\"\"]\")"
   ]
  },
  {
   "cell_type": "code",
   "execution_count": 367,
   "metadata": {},
   "outputs": [
    {
     "name": "stdout",
     "output_type": "stream",
     "text": [
      "['$48,589', '$12,589', '$19,999', '$20,378', '$18,990', '$24,800', '$35,998', '$30,990', '$22,700', '$36,998', '$32,990', '$30,998', '$37,998', '$33,998', '$40,998\\n$39,998', '$19,998', '$45,998', '$37,990', '$16,990', '$19,998', '$32,850', '$15,990', '$36,998\\n$35,998', '$25,990', '$42,998\\n$39,998', '$20,998\\n$19,998', '$19,998', '$22,998\\n$21,998', '$28,998', '$42,998', '$36,998', '$36,998\\n$35,998', '$32,895']\n"
     ]
    }
   ],
   "source": [
    "#vamos mexer primeiro em precos\n",
    "#lista auxiliar para guardar os valores retornados\n",
    "listPrecos = []\n",
    "\n",
    "#loop para percorrer os valores retornados e armazenar o text deles na lista\n",
    "for item in precosCarros:\n",
    "    listPrecos.append(item.text)\n",
    "    \n",
    "#alguns elementos tem esse \\n entre os precos, vamos separar e manter o primeiro que aparece\n",
    "print(listPrecos)        "
   ]
  },
  {
   "cell_type": "code",
   "execution_count": 368,
   "metadata": {},
   "outputs": [
    {
     "name": "stdout",
     "output_type": "stream",
     "text": [
      "['$48,589', '$12,589', '$19,999', '$20,378', '$18,990', '$24,800', '$35,998', '$30,990', '$22,700', '$36,998', '$32,990', '$30,998', '$37,998', '$33,998', '$40,998', '$19,998', '$45,998', '$37,990', '$16,990', '$19,998', '$32,850', '$15,990', '$36,998', '$25,990', '$42,998', '$20,998', '$19,998', '$22,998', '$28,998', '$42,998', '$36,998', '$36,998', '$32,895']\n"
     ]
    }
   ],
   "source": [
    "#lista final com os valores dos precos\n",
    "list_final_precos = []\n",
    "\n",
    "#loop pra percorrer a lista de precos\n",
    "for elemento in listPrecos:\n",
    "    #checa se ha '\\n' no elemento\n",
    "    if '\\n' in elemento:\n",
    "        #se houver, separa o elemento usando '\\n' como separador e coloca so a primeira parte na lista final\n",
    "        parte1, _ = elemento.split('\\n', 1)\n",
    "        list_final_precos.append(parte1)\n",
    "    else:\n",
    "        #se nao houver o '\\n', adiciona o elemento intacto na lista_final\n",
    "        list_final_precos.append(elemento)\n",
    "\n",
    "#mostra a lista final\n",
    "print(list_final_precos)"
   ]
  },
  {
   "cell_type": "code",
   "execution_count": 369,
   "metadata": {},
   "outputs": [
    {
     "name": "stdout",
     "output_type": "stream",
     "text": [
      "[48.589, 12.589, 19.999, 20.378, 18.99, 24.8, 35.998, 30.99, 22.7, 36.998, 32.99, 30.998, 37.998, 33.998, 40.998, 19.998, 45.998, 37.99, 16.99, 19.998, 32.85, 15.99, 36.998, 25.99, 42.998, 20.998, 19.998, 22.998, 28.998, 42.998, 36.998, 36.998, 32.895]\n"
     ]
    }
   ],
   "source": [
    "#vamos remover o simbolo de dolar e transformar em numero float as unidades (para facilitar os calculos)\n",
    "for i in range(len(list_final_precos)):\n",
    "    #funcao replace vai numa string e substitui o que a gente pedir pelo valor que pedirmos, no caso abaixo substituimos $ e as virgulas, alem de transformarmos em float\n",
    "    list_final_precos[i] = float(list_final_precos[i].replace(\"$\",\"\").replace(\",\",\".\"))\n",
    "\n",
    "print(list_final_precos)    "
   ]
  },
  {
   "cell_type": "code",
   "execution_count": 370,
   "metadata": {},
   "outputs": [
    {
     "name": "stdout",
     "output_type": "stream",
     "text": [
      "['Sponsored\\n2023\\nFord Bronco', 'Sponsored\\n2019\\nHyundai Elantra', 'Sponsored\\n2022\\nToyota Corolla', '2019\\nChevrolet Silverado 1500', '2021\\nChevrolet Malibu', '2019\\nLincoln MKT', '2021\\nFord F-150', '2019\\nFord F-150', '2020\\nFord Explorer', '2021\\nFord F-150', '2019\\nChevrolet Silverado 1500', '2021\\nFord Explorer', '2018\\nFord F-150', '2021\\nFord F-150', '2021\\nFord F-150', '2022\\nChevrolet Malibu', '2023\\nFord F-150', '2020\\nGMC Sierra 1500', '2020\\nHyundai Kona', '2022\\nChevrolet Malibu', '2020\\nFord Transit Cargo Van', '2015\\nJeep Grand Cherokee', '2021\\nFord F-150', '2020\\nMitsubishi Outlander', '2021\\nRam 1500', '2022\\nChevrolet Malibu', '2020\\nFord Fusion', '2022\\nChevrolet Malibu', '2018\\nFord F-150', '2021\\nFord F-150', '2020\\nRam 1500', '2021\\nRam 1500', '2019\\nFord F-150']\n"
     ]
    }
   ],
   "source": [
    "#agora vamos ver os nomes\n",
    "#lista auxiliar para guardar os valores retornados\n",
    "listNomesCarros = []\n",
    "\n",
    "#loop para percorrer os valores retornados e armazenar o text deles na lista\n",
    "for item in NomesCarros:\n",
    "    listNomesCarros.append(item.text)\n",
    "\n",
    "#a lista nos retorna os nomes e os anos, mas estao separados por esse \\n e alguns elementos tem esse 'sponsored', a ideia eh tirar o sponsored e armazenar os valores de nome e ano em listas diferentes   \n",
    "print(listNomesCarros)    "
   ]
  },
  {
   "cell_type": "code",
   "execution_count": 371,
   "metadata": {},
   "outputs": [
    {
     "name": "stdout",
     "output_type": "stream",
     "text": [
      "['2023\\nFord Bronco', '2019\\nHyundai Elantra', '2022\\nToyota Corolla', '2019\\nChevrolet Silverado 1500', '2021\\nChevrolet Malibu', '2019\\nLincoln MKT', '2021\\nFord F-150', '2019\\nFord F-150', '2020\\nFord Explorer', '2021\\nFord F-150', '2019\\nChevrolet Silverado 1500', '2021\\nFord Explorer', '2018\\nFord F-150', '2021\\nFord F-150', '2021\\nFord F-150', '2022\\nChevrolet Malibu', '2023\\nFord F-150', '2020\\nGMC Sierra 1500', '2020\\nHyundai Kona', '2022\\nChevrolet Malibu', '2020\\nFord Transit Cargo Van', '2015\\nJeep Grand Cherokee', '2021\\nFord F-150', '2020\\nMitsubishi Outlander', '2021\\nRam 1500', '2022\\nChevrolet Malibu', '2020\\nFord Fusion', '2022\\nChevrolet Malibu', '2018\\nFord F-150', '2021\\nFord F-150', '2020\\nRam 1500', '2021\\nRam 1500', '2019\\nFord F-150']\n"
     ]
    }
   ],
   "source": [
    "#lista auxiliar para guardar os valores retornados\n",
    "listAux_NomeAno = []\n",
    "\n",
    "#vamos tirar a palavra sponsored\n",
    "#loop para percorrer a lista\n",
    "for item in listNomesCarros:\n",
    "    #se tiver sponsored no item, tira ele e armazena o resto da string, se nao, armazena o valor normal mesmo\n",
    "    if 'Sponsored' in item:\n",
    "        listAux_NomeAno.append(item.replace(\"Sponsored\", \"\").strip())\n",
    "    else:\n",
    "        listAux_NomeAno.append(item)\n",
    "\n",
    "#agora vamos separar os anos e os nomes e guardar cada um em sua respectiva lista \n",
    "print(listAux_NomeAno)            "
   ]
  },
  {
   "cell_type": "code",
   "execution_count": 372,
   "metadata": {},
   "outputs": [],
   "source": [
    "#listas auxiliares para guardar os valores apos a divisao\n",
    "list_final_ano = []\n",
    "list_final_nome = []\n",
    "\n",
    "#loop para percorrer a lista auxiliar\n",
    "for item in listAux_NomeAno:\n",
    "    #separa em ano e nome, usando como separador o '\\n'\n",
    "    ano, nome = item.split('\\n',2)\n",
    "    \n",
    "    #acrescenta cada um para sua lista\n",
    "    list_final_ano.append(ano)\n",
    "    list_final_nome.append(nome)"
   ]
  },
  {
   "cell_type": "code",
   "execution_count": 373,
   "metadata": {},
   "outputs": [
    {
     "name": "stdout",
     "output_type": "stream",
     "text": [
      "['2023', '2019', '2022', '2019', '2021', '2019', '2021', '2019', '2020', '2021', '2019', '2021', '2018', '2021', '2021', '2022', '2023', '2020', '2020', '2022', '2020', '2015', '2021', '2020', '2021', '2022', '2020', '2022', '2018', '2021', '2020', '2021', '2019']\n"
     ]
    }
   ],
   "source": [
    "print(list_final_ano)"
   ]
  },
  {
   "cell_type": "code",
   "execution_count": 374,
   "metadata": {},
   "outputs": [
    {
     "name": "stdout",
     "output_type": "stream",
     "text": [
      "['Ford Bronco', 'Hyundai Elantra', 'Toyota Corolla', 'Chevrolet Silverado 1500', 'Chevrolet Malibu', 'Lincoln MKT', 'Ford F-150', 'Ford F-150', 'Ford Explorer', 'Ford F-150', 'Chevrolet Silverado 1500', 'Ford Explorer', 'Ford F-150', 'Ford F-150', 'Ford F-150', 'Chevrolet Malibu', 'Ford F-150', 'GMC Sierra 1500', 'Hyundai Kona', 'Chevrolet Malibu', 'Ford Transit Cargo Van', 'Jeep Grand Cherokee', 'Ford F-150', 'Mitsubishi Outlander', 'Ram 1500', 'Chevrolet Malibu', 'Ford Fusion', 'Chevrolet Malibu', 'Ford F-150', 'Ford F-150', 'Ram 1500', 'Ram 1500', 'Ford F-150']\n"
     ]
    }
   ],
   "source": [
    "print(list_final_nome)"
   ]
  },
  {
   "cell_type": "code",
   "execution_count": 375,
   "metadata": {},
   "outputs": [
    {
     "name": "stdout",
     "output_type": "stream",
     "text": [
      "['1,658 miles', '73,608 miles', '12,574 miles', '207,382 miles', '67,453 miles', '46,646 miles', '37,641 miles', '48,658 miles', '91,344 miles', '42,959 miles', '71,478 miles', '28,348 miles', '80,423 miles', '59,013 miles', '20,729 miles', '37,018 miles', '18,064 miles', '84,881 miles', '58,003 miles', '42,281 miles', '51,553 miles', '96,477 miles', '36,836 miles', '47,917 miles', '31,144 miles', '34,201 miles', '29,734 miles', '37,351 miles', '62,433 miles', '49,018 miles', '29,701 miles', '27,640 miles', '81,567 miles']\n"
     ]
    }
   ],
   "source": [
    "#agora vamos checar as milhas\n",
    "#lista auxiliar para guardar os valores\n",
    "listMiles = []\n",
    "\n",
    "#loop para percorrer os valores retornados e armazenar o text deles na lista\n",
    "for item in MilesCar:\n",
    "    listMiles.append(item.text)\n",
    "\n",
    "#vamos tirar esse miles do final da string e transformar em float os numeros    \n",
    "print(listMiles)    "
   ]
  },
  {
   "cell_type": "code",
   "execution_count": 376,
   "metadata": {},
   "outputs": [
    {
     "name": "stdout",
     "output_type": "stream",
     "text": [
      "['1,658', '73,608', '12,574', '207,382', '67,453', '46,646', '37,641', '48,658', '91,344', '42,959', '71,478', '28,348', '80,423', '59,013', '20,729', '37,018', '18,064', '84,881', '58,003', '42,281', '51,553', '96,477', '36,836', '47,917', '31,144', '34,201', '29,734', '37,351', '62,433', '49,018', '29,701', '27,640', '81,567']\n"
     ]
    }
   ],
   "source": [
    "#lista final dos valores\n",
    "list_final_miles = []\n",
    "\n",
    "#loop para percorrer a lista auxiliar e retirar a palavra miles do final de cada registro\n",
    "for item in listMiles:\n",
    "    miles, _ = item.split(\" \",1)\n",
    "    list_final_miles.append(miles)\n",
    "\n",
    "#agora vamos converter para float    \n",
    "print(list_final_miles)    "
   ]
  },
  {
   "cell_type": "code",
   "execution_count": 377,
   "metadata": {},
   "outputs": [
    {
     "name": "stdout",
     "output_type": "stream",
     "text": [
      "[1.658, 73.608, 12.574, 207.382, 67.453, 46.646, 37.641, 48.658, 91.344, 42.959, 71.478, 28.348, 80.423, 59.013, 20.729, 37.018, 18.064, 84.881, 58.003, 42.281, 51.553, 96.477, 36.836, 47.917, 31.144, 34.201, 29.734, 37.351, 62.433, 49.018, 29.701, 27.64, 81.567]\n"
     ]
    }
   ],
   "source": [
    "#loop para percorrer a lista\n",
    "for i in range(len(list_final_miles)):\n",
    "    #em cada elemento, substitui a virgula por ponto e transforma em float\n",
    "    list_final_miles[i] = float(list_final_miles[i].replace(\",\",\".\"))\n",
    "    \n",
    "print(list_final_miles)    "
   ]
  },
  {
   "cell_type": "code",
   "execution_count": 378,
   "metadata": {},
   "outputs": [],
   "source": [
    "#Agora vamos fechar o webdriver (tentamos fechar ele antes, porem dava erro)\n",
    "driver.close()"
   ]
  },
  {
   "cell_type": "code",
   "execution_count": 379,
   "metadata": {},
   "outputs": [],
   "source": [
    "#vamos juntar essas infos que coletamos em um dataframe\n",
    "\n",
    "#colocamos um dict, com o nome da coluna e o conteudo dela\n",
    "data = {'Modelo do carro':list_final_nome,'Preco ($)':list_final_precos,'Ano':list_final_ano,'Milhas percorridas':list_final_miles}\n",
    "\n",
    "#funcao dataframe para criar o df\n",
    "df = pd.DataFrame(data)"
   ]
  },
  {
   "cell_type": "code",
   "execution_count": 380,
   "metadata": {},
   "outputs": [
    {
     "data": {
      "text/html": [
       "<div>\n",
       "<style scoped>\n",
       "    .dataframe tbody tr th:only-of-type {\n",
       "        vertical-align: middle;\n",
       "    }\n",
       "\n",
       "    .dataframe tbody tr th {\n",
       "        vertical-align: top;\n",
       "    }\n",
       "\n",
       "    .dataframe thead th {\n",
       "        text-align: right;\n",
       "    }\n",
       "</style>\n",
       "<table border=\"1\" class=\"dataframe\">\n",
       "  <thead>\n",
       "    <tr style=\"text-align: right;\">\n",
       "      <th></th>\n",
       "      <th>Modelo do carro</th>\n",
       "      <th>Preco ($)</th>\n",
       "      <th>Ano</th>\n",
       "      <th>Milhas percorridas</th>\n",
       "    </tr>\n",
       "  </thead>\n",
       "  <tbody>\n",
       "    <tr>\n",
       "      <th>0</th>\n",
       "      <td>Ford Bronco</td>\n",
       "      <td>48.589</td>\n",
       "      <td>2023</td>\n",
       "      <td>1.658</td>\n",
       "    </tr>\n",
       "    <tr>\n",
       "      <th>1</th>\n",
       "      <td>Hyundai Elantra</td>\n",
       "      <td>12.589</td>\n",
       "      <td>2019</td>\n",
       "      <td>73.608</td>\n",
       "    </tr>\n",
       "    <tr>\n",
       "      <th>2</th>\n",
       "      <td>Toyota Corolla</td>\n",
       "      <td>19.999</td>\n",
       "      <td>2022</td>\n",
       "      <td>12.574</td>\n",
       "    </tr>\n",
       "    <tr>\n",
       "      <th>3</th>\n",
       "      <td>Chevrolet Silverado 1500</td>\n",
       "      <td>20.378</td>\n",
       "      <td>2019</td>\n",
       "      <td>207.382</td>\n",
       "    </tr>\n",
       "    <tr>\n",
       "      <th>4</th>\n",
       "      <td>Chevrolet Malibu</td>\n",
       "      <td>18.990</td>\n",
       "      <td>2021</td>\n",
       "      <td>67.453</td>\n",
       "    </tr>\n",
       "    <tr>\n",
       "      <th>5</th>\n",
       "      <td>Lincoln MKT</td>\n",
       "      <td>24.800</td>\n",
       "      <td>2019</td>\n",
       "      <td>46.646</td>\n",
       "    </tr>\n",
       "    <tr>\n",
       "      <th>6</th>\n",
       "      <td>Ford F-150</td>\n",
       "      <td>35.998</td>\n",
       "      <td>2021</td>\n",
       "      <td>37.641</td>\n",
       "    </tr>\n",
       "    <tr>\n",
       "      <th>7</th>\n",
       "      <td>Ford F-150</td>\n",
       "      <td>30.990</td>\n",
       "      <td>2019</td>\n",
       "      <td>48.658</td>\n",
       "    </tr>\n",
       "    <tr>\n",
       "      <th>8</th>\n",
       "      <td>Ford Explorer</td>\n",
       "      <td>22.700</td>\n",
       "      <td>2020</td>\n",
       "      <td>91.344</td>\n",
       "    </tr>\n",
       "    <tr>\n",
       "      <th>9</th>\n",
       "      <td>Ford F-150</td>\n",
       "      <td>36.998</td>\n",
       "      <td>2021</td>\n",
       "      <td>42.959</td>\n",
       "    </tr>\n",
       "    <tr>\n",
       "      <th>10</th>\n",
       "      <td>Chevrolet Silverado 1500</td>\n",
       "      <td>32.990</td>\n",
       "      <td>2019</td>\n",
       "      <td>71.478</td>\n",
       "    </tr>\n",
       "    <tr>\n",
       "      <th>11</th>\n",
       "      <td>Ford Explorer</td>\n",
       "      <td>30.998</td>\n",
       "      <td>2021</td>\n",
       "      <td>28.348</td>\n",
       "    </tr>\n",
       "    <tr>\n",
       "      <th>12</th>\n",
       "      <td>Ford F-150</td>\n",
       "      <td>37.998</td>\n",
       "      <td>2018</td>\n",
       "      <td>80.423</td>\n",
       "    </tr>\n",
       "    <tr>\n",
       "      <th>13</th>\n",
       "      <td>Ford F-150</td>\n",
       "      <td>33.998</td>\n",
       "      <td>2021</td>\n",
       "      <td>59.013</td>\n",
       "    </tr>\n",
       "    <tr>\n",
       "      <th>14</th>\n",
       "      <td>Ford F-150</td>\n",
       "      <td>40.998</td>\n",
       "      <td>2021</td>\n",
       "      <td>20.729</td>\n",
       "    </tr>\n",
       "    <tr>\n",
       "      <th>15</th>\n",
       "      <td>Chevrolet Malibu</td>\n",
       "      <td>19.998</td>\n",
       "      <td>2022</td>\n",
       "      <td>37.018</td>\n",
       "    </tr>\n",
       "    <tr>\n",
       "      <th>16</th>\n",
       "      <td>Ford F-150</td>\n",
       "      <td>45.998</td>\n",
       "      <td>2023</td>\n",
       "      <td>18.064</td>\n",
       "    </tr>\n",
       "    <tr>\n",
       "      <th>17</th>\n",
       "      <td>GMC Sierra 1500</td>\n",
       "      <td>37.990</td>\n",
       "      <td>2020</td>\n",
       "      <td>84.881</td>\n",
       "    </tr>\n",
       "    <tr>\n",
       "      <th>18</th>\n",
       "      <td>Hyundai Kona</td>\n",
       "      <td>16.990</td>\n",
       "      <td>2020</td>\n",
       "      <td>58.003</td>\n",
       "    </tr>\n",
       "    <tr>\n",
       "      <th>19</th>\n",
       "      <td>Chevrolet Malibu</td>\n",
       "      <td>19.998</td>\n",
       "      <td>2022</td>\n",
       "      <td>42.281</td>\n",
       "    </tr>\n",
       "    <tr>\n",
       "      <th>20</th>\n",
       "      <td>Ford Transit Cargo Van</td>\n",
       "      <td>32.850</td>\n",
       "      <td>2020</td>\n",
       "      <td>51.553</td>\n",
       "    </tr>\n",
       "    <tr>\n",
       "      <th>21</th>\n",
       "      <td>Jeep Grand Cherokee</td>\n",
       "      <td>15.990</td>\n",
       "      <td>2015</td>\n",
       "      <td>96.477</td>\n",
       "    </tr>\n",
       "    <tr>\n",
       "      <th>22</th>\n",
       "      <td>Ford F-150</td>\n",
       "      <td>36.998</td>\n",
       "      <td>2021</td>\n",
       "      <td>36.836</td>\n",
       "    </tr>\n",
       "    <tr>\n",
       "      <th>23</th>\n",
       "      <td>Mitsubishi Outlander</td>\n",
       "      <td>25.990</td>\n",
       "      <td>2020</td>\n",
       "      <td>47.917</td>\n",
       "    </tr>\n",
       "    <tr>\n",
       "      <th>24</th>\n",
       "      <td>Ram 1500</td>\n",
       "      <td>42.998</td>\n",
       "      <td>2021</td>\n",
       "      <td>31.144</td>\n",
       "    </tr>\n",
       "    <tr>\n",
       "      <th>25</th>\n",
       "      <td>Chevrolet Malibu</td>\n",
       "      <td>20.998</td>\n",
       "      <td>2022</td>\n",
       "      <td>34.201</td>\n",
       "    </tr>\n",
       "    <tr>\n",
       "      <th>26</th>\n",
       "      <td>Ford Fusion</td>\n",
       "      <td>19.998</td>\n",
       "      <td>2020</td>\n",
       "      <td>29.734</td>\n",
       "    </tr>\n",
       "    <tr>\n",
       "      <th>27</th>\n",
       "      <td>Chevrolet Malibu</td>\n",
       "      <td>22.998</td>\n",
       "      <td>2022</td>\n",
       "      <td>37.351</td>\n",
       "    </tr>\n",
       "    <tr>\n",
       "      <th>28</th>\n",
       "      <td>Ford F-150</td>\n",
       "      <td>28.998</td>\n",
       "      <td>2018</td>\n",
       "      <td>62.433</td>\n",
       "    </tr>\n",
       "    <tr>\n",
       "      <th>29</th>\n",
       "      <td>Ford F-150</td>\n",
       "      <td>42.998</td>\n",
       "      <td>2021</td>\n",
       "      <td>49.018</td>\n",
       "    </tr>\n",
       "    <tr>\n",
       "      <th>30</th>\n",
       "      <td>Ram 1500</td>\n",
       "      <td>36.998</td>\n",
       "      <td>2020</td>\n",
       "      <td>29.701</td>\n",
       "    </tr>\n",
       "    <tr>\n",
       "      <th>31</th>\n",
       "      <td>Ram 1500</td>\n",
       "      <td>36.998</td>\n",
       "      <td>2021</td>\n",
       "      <td>27.640</td>\n",
       "    </tr>\n",
       "    <tr>\n",
       "      <th>32</th>\n",
       "      <td>Ford F-150</td>\n",
       "      <td>32.895</td>\n",
       "      <td>2019</td>\n",
       "      <td>81.567</td>\n",
       "    </tr>\n",
       "  </tbody>\n",
       "</table>\n",
       "</div>"
      ],
      "text/plain": [
       "             Modelo do carro  Preco ($)   Ano  Milhas percorridas\n",
       "0                Ford Bronco     48.589  2023               1.658\n",
       "1            Hyundai Elantra     12.589  2019              73.608\n",
       "2             Toyota Corolla     19.999  2022              12.574\n",
       "3   Chevrolet Silverado 1500     20.378  2019             207.382\n",
       "4           Chevrolet Malibu     18.990  2021              67.453\n",
       "5                Lincoln MKT     24.800  2019              46.646\n",
       "6                 Ford F-150     35.998  2021              37.641\n",
       "7                 Ford F-150     30.990  2019              48.658\n",
       "8              Ford Explorer     22.700  2020              91.344\n",
       "9                 Ford F-150     36.998  2021              42.959\n",
       "10  Chevrolet Silverado 1500     32.990  2019              71.478\n",
       "11             Ford Explorer     30.998  2021              28.348\n",
       "12                Ford F-150     37.998  2018              80.423\n",
       "13                Ford F-150     33.998  2021              59.013\n",
       "14                Ford F-150     40.998  2021              20.729\n",
       "15          Chevrolet Malibu     19.998  2022              37.018\n",
       "16                Ford F-150     45.998  2023              18.064\n",
       "17           GMC Sierra 1500     37.990  2020              84.881\n",
       "18              Hyundai Kona     16.990  2020              58.003\n",
       "19          Chevrolet Malibu     19.998  2022              42.281\n",
       "20    Ford Transit Cargo Van     32.850  2020              51.553\n",
       "21       Jeep Grand Cherokee     15.990  2015              96.477\n",
       "22                Ford F-150     36.998  2021              36.836\n",
       "23      Mitsubishi Outlander     25.990  2020              47.917\n",
       "24                  Ram 1500     42.998  2021              31.144\n",
       "25          Chevrolet Malibu     20.998  2022              34.201\n",
       "26               Ford Fusion     19.998  2020              29.734\n",
       "27          Chevrolet Malibu     22.998  2022              37.351\n",
       "28                Ford F-150     28.998  2018              62.433\n",
       "29                Ford F-150     42.998  2021              49.018\n",
       "30                  Ram 1500     36.998  2020              29.701\n",
       "31                  Ram 1500     36.998  2021              27.640\n",
       "32                Ford F-150     32.895  2019              81.567"
      ]
     },
     "execution_count": 380,
     "metadata": {},
     "output_type": "execute_result"
    }
   ],
   "source": [
    "df"
   ]
  }
 ],
 "metadata": {
  "kernelspec": {
   "display_name": "Python 3",
   "language": "python",
   "name": "python3"
  },
  "language_info": {
   "codemirror_mode": {
    "name": "ipython",
    "version": 3
   },
   "file_extension": ".py",
   "mimetype": "text/x-python",
   "name": "python",
   "nbconvert_exporter": "python",
   "pygments_lexer": "ipython3",
   "version": "3.11.7"
  }
 },
 "nbformat": 4,
 "nbformat_minor": 2
}
